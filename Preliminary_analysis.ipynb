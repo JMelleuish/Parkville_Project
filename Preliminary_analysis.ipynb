{
 "cells": [
  {
   "cell_type": "markdown",
   "metadata": {},
   "source": [
    "# Parkville Prject\n",
    "## Cleaning the dataset\n",
    "### Reading in the data"
   ]
  },
  {
   "cell_type": "code",
   "execution_count": 62,
   "metadata": {},
   "outputs": [],
   "source": [
    "import pandas as pd\n",
    "import gspread\n",
    "from oauth2client.service_account import ServiceAccountCredentials\n",
    "\n",
    "# define the scope\n",
    "scope = ['https://spreadsheets.google.com/feeds','https://www.googleapis.com/auth/drive']\n",
    "\n",
    "# add credentials to the account\n",
    "creds = ServiceAccountCredentials.from_json_keyfile_name('keys.json', scope)\n",
    "\n",
    "# authorize the clientsheet \n",
    "client = gspread.authorize(creds)\n",
    "\n",
    "# get the instance of the Spreadsheet\n",
    "sheet = client.open(\"Parkville Project Top Secret Calendar\")\n",
    "\n",
    "# get the first sheet of the Spreadsheet\n",
    "sheet_instance = sheet.get_worksheet(3)\n",
    "\n",
    "# get all the records of the data\n",
    "records_data = sheet_instance.get_all_records()\n",
    "\n",
    "# view the data\n",
    "df = pd.DataFrame(records_data)[:28]"
   ]
  },
  {
   "cell_type": "markdown",
   "metadata": {},
   "source": [
    "### Extracting Dates"
   ]
  },
  {
   "cell_type": "code",
   "execution_count": 63,
   "metadata": {},
   "outputs": [],
   "source": [
    "import re\n",
    "for col in df.iloc[:,1:]:\n",
    "    name = re.findall(r'\\w+_\\w+_', col)   \n",
    "    Search = []  \n",
    "    for values in df[col]:\n",
    "        match = re.search(r'\\((2\\d{3})\\)|\\((\\d{1,2}.\\d{1,2}.\\d{4})\\)', values)\n",
    "        if match is not None:\n",
    "            Search.append(match.group(0))\n",
    "        else:\n",
    "            Search.append(None)\n",
    "    df[f'{name[0]}Date'] = Search"
   ]
  },
  {
   "cell_type": "markdown",
   "metadata": {},
   "source": [
    "### Extracting IAAF Points"
   ]
  },
  {
   "cell_type": "code",
   "execution_count": 77,
   "metadata": {},
   "outputs": [],
   "source": [
    "for col in df.iloc[:,1:23]:\n",
    "    name = re.findall(r'\\w+_\\w+_', col)  \n",
    "    Search = []  \n",
    "    for values in df[col]:\n",
    "        match = re.search(r'\\((1\\d{3})\\)|\\((\\d{3})\\)', values)\n",
    "        if match is not None:\n",
    "            test = re.search(r'\\d+', match.group(0))\n",
    "            Search.append(test.group(0))\n",
    "        else:\n",
    "            Search.append(None)\n",
    "    df[f'{name[0]}Score'] = Search"
   ]
  },
  {
   "cell_type": "markdown",
   "metadata": {},
   "source": [
    "### Isolating Time"
   ]
  },
  {
   "cell_type": "code",
   "execution_count": null,
   "metadata": {},
   "outputs": [],
   "source": []
  },
  {
   "cell_type": "markdown",
   "metadata": {},
   "source": [
    "### Converting Time to Seconds"
   ]
  },
  {
   "cell_type": "code",
   "execution_count": null,
   "metadata": {},
   "outputs": [],
   "source": []
  },
  {
   "cell_type": "markdown",
   "metadata": {},
   "source": [
    "## Group Analysis"
   ]
  },
  {
   "cell_type": "markdown",
   "metadata": {},
   "source": []
  }
 ],
 "metadata": {
  "interpreter": {
   "hash": "863906e9a4165d4738736793daf13ef61aad6cfe5622e28d202ed76ed0afc263"
  },
  "kernelspec": {
   "display_name": "Python 3.9.12",
   "language": "python",
   "name": "python3"
  },
  "language_info": {
   "codemirror_mode": {
    "name": "ipython",
    "version": 3
   },
   "file_extension": ".py",
   "mimetype": "text/x-python",
   "name": "python",
   "nbconvert_exporter": "python",
   "pygments_lexer": "ipython3",
   "version": "3.9.12"
  },
  "orig_nbformat": 4
 },
 "nbformat": 4,
 "nbformat_minor": 2
}
